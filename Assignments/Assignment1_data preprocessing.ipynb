{
 "cells": [
  {
   "cell_type": "markdown",
   "id": "ac022fee",
   "metadata": {},
   "source": [
    "# Assignment 1\n",
    "# Venkatesh Boddupalli\n",
    "# U56026389"
   ]
  },
  {
   "cell_type": "markdown",
   "id": "8b0b1bbc",
   "metadata": {},
   "source": [
    "# About Dataset"
   ]
  },
  {
   "cell_type": "markdown",
   "id": "f7b0acc7",
   "metadata": {},
   "source": [
    "The Car Evaluation Dataset is a collection of data on various cars and their attributes, which can be used to evaluate their overall quality and performance. The dataset includes six attributes of each car, namely buying price, maintenance price, number of doors, number of seats, luggage capacity, and safety rating.\n",
    "\n",
    "Each attribute is classified into several categories, and the dataset consists of 1,728 samples instances. The dataset is divided into six classes, which represent the different levels of car acceptability. The classes are Unacceptable, Acceptable, Good, and Very Good.\n",
    "\n",
    "The dataset is used for classification problem and to predict the acceptability of a car based on its attributes.\n",
    "\n",
    "The car evaluation dataset is useful in the automobile industry because it can help car buyers make informed decisions based on their preferences and budget. It can also be used by automakers to design and manufacture vehicles that meet the needs of their customers."
   ]
  },
  {
   "cell_type": "markdown",
   "id": "ab742eb0",
   "metadata": {},
   "source": [
    "# Importing the Libraries"
   ]
  },
  {
   "cell_type": "code",
   "execution_count": 33,
   "id": "278edd35",
   "metadata": {},
   "outputs": [],
   "source": [
    "import pandas as pd\n",
    "import numpy as np\n",
    "from sklearn.preprocessing import LabelEncoder"
   ]
  },
  {
   "cell_type": "markdown",
   "id": "0c0fb717",
   "metadata": {},
   "source": [
    "# Load the data"
   ]
  },
  {
   "cell_type": "code",
   "execution_count": 34,
   "id": "4b03cfe8",
   "metadata": {},
   "outputs": [],
   "source": [
    "data = pd.read_csv(\"C:/Users/vvenk/Downloads/car_evaluation.csv\")"
   ]
  },
  {
   "cell_type": "code",
   "execution_count": 35,
   "id": "50a7179a",
   "metadata": {},
   "outputs": [
    {
     "data": {
      "text/html": [
       "<div>\n",
       "<style scoped>\n",
       "    .dataframe tbody tr th:only-of-type {\n",
       "        vertical-align: middle;\n",
       "    }\n",
       "\n",
       "    .dataframe tbody tr th {\n",
       "        vertical-align: top;\n",
       "    }\n",
       "\n",
       "    .dataframe thead th {\n",
       "        text-align: right;\n",
       "    }\n",
       "</style>\n",
       "<table border=\"1\" class=\"dataframe\">\n",
       "  <thead>\n",
       "    <tr style=\"text-align: right;\">\n",
       "      <th></th>\n",
       "      <th>buying_price</th>\n",
       "      <th>maintenance_cost</th>\n",
       "      <th>number_of_doors</th>\n",
       "      <th>number_of_persons</th>\n",
       "      <th>lug_boot</th>\n",
       "      <th>safety</th>\n",
       "      <th>decision</th>\n",
       "    </tr>\n",
       "  </thead>\n",
       "  <tbody>\n",
       "    <tr>\n",
       "      <th>0</th>\n",
       "      <td>vhigh</td>\n",
       "      <td>vhigh</td>\n",
       "      <td>2</td>\n",
       "      <td>2</td>\n",
       "      <td>small</td>\n",
       "      <td>low</td>\n",
       "      <td>unacc</td>\n",
       "    </tr>\n",
       "    <tr>\n",
       "      <th>1</th>\n",
       "      <td>vhigh</td>\n",
       "      <td>vhigh</td>\n",
       "      <td>2</td>\n",
       "      <td>2</td>\n",
       "      <td>small</td>\n",
       "      <td>med</td>\n",
       "      <td>unacc</td>\n",
       "    </tr>\n",
       "    <tr>\n",
       "      <th>2</th>\n",
       "      <td>vhigh</td>\n",
       "      <td>vhigh</td>\n",
       "      <td>2</td>\n",
       "      <td>2</td>\n",
       "      <td>small</td>\n",
       "      <td>high</td>\n",
       "      <td>unacc</td>\n",
       "    </tr>\n",
       "    <tr>\n",
       "      <th>3</th>\n",
       "      <td>vhigh</td>\n",
       "      <td>vhigh</td>\n",
       "      <td>2</td>\n",
       "      <td>2</td>\n",
       "      <td>med</td>\n",
       "      <td>low</td>\n",
       "      <td>unacc</td>\n",
       "    </tr>\n",
       "    <tr>\n",
       "      <th>4</th>\n",
       "      <td>vhigh</td>\n",
       "      <td>vhigh</td>\n",
       "      <td>2</td>\n",
       "      <td>2</td>\n",
       "      <td>med</td>\n",
       "      <td>med</td>\n",
       "      <td>unacc</td>\n",
       "    </tr>\n",
       "  </tbody>\n",
       "</table>\n",
       "</div>"
      ],
      "text/plain": [
       "  buying_price maintenance_cost number_of_doors number_of_persons lug_boot  \\\n",
       "0        vhigh            vhigh               2                 2    small   \n",
       "1        vhigh            vhigh               2                 2    small   \n",
       "2        vhigh            vhigh               2                 2    small   \n",
       "3        vhigh            vhigh               2                 2      med   \n",
       "4        vhigh            vhigh               2                 2      med   \n",
       "\n",
       "  safety decision  \n",
       "0    low    unacc  \n",
       "1    med    unacc  \n",
       "2   high    unacc  \n",
       "3    low    unacc  \n",
       "4    med    unacc  "
      ]
     },
     "execution_count": 35,
     "metadata": {},
     "output_type": "execute_result"
    }
   ],
   "source": [
    "data.head()"
   ]
  },
  {
   "cell_type": "code",
   "execution_count": 36,
   "id": "de1caa74",
   "metadata": {},
   "outputs": [
    {
     "data": {
      "text/plain": [
       "3"
      ]
     },
     "execution_count": 36,
     "metadata": {},
     "output_type": "execute_result"
    }
   ],
   "source": [
    "len(data['lug_boot'].unique())"
   ]
  },
  {
   "cell_type": "code",
   "execution_count": 37,
   "id": "c8e78acf",
   "metadata": {},
   "outputs": [
    {
     "data": {
      "text/plain": [
       "unacc    1210\n",
       "acc       384\n",
       "good       69\n",
       "vgood      65\n",
       "Name: decision, dtype: int64"
      ]
     },
     "execution_count": 37,
     "metadata": {},
     "output_type": "execute_result"
    }
   ],
   "source": [
    "data['decision'].value_counts()"
   ]
  },
  {
   "cell_type": "markdown",
   "id": "ec4d36a4",
   "metadata": {},
   "source": [
    "# Encode the target variable"
   ]
  },
  {
   "cell_type": "code",
   "execution_count": 38,
   "id": "09c47e93",
   "metadata": {},
   "outputs": [],
   "source": [
    "label_encoder = LabelEncoder()\n",
    "data[\"decision\"] = label_encoder.fit_transform(data[\"decision\"])"
   ]
  },
  {
   "cell_type": "markdown",
   "id": "9500dce0",
   "metadata": {},
   "source": [
    "# Converting the categorical columns to dummies"
   ]
  },
  {
   "cell_type": "code",
   "execution_count": 39,
   "id": "ff4a8bd3",
   "metadata": {},
   "outputs": [],
   "source": [
    "X = data.drop('decision',axis=1)\n",
    "y = data['decision']"
   ]
  },
  {
   "cell_type": "code",
   "execution_count": 40,
   "id": "f1ee48fa",
   "metadata": {},
   "outputs": [],
   "source": [
    "X = pd.get_dummies(X,drop_first=True)"
   ]
  },
  {
   "cell_type": "markdown",
   "id": "3667a846",
   "metadata": {},
   "source": [
    "*Here we are not using standard scaler because all the variables are categorical columns and they are transformed into dummies*"
   ]
  },
  {
   "cell_type": "code",
   "execution_count": 41,
   "id": "225f399a",
   "metadata": {},
   "outputs": [],
   "source": [
    "from sklearn.model_selection import train_test_split"
   ]
  },
  {
   "cell_type": "code",
   "execution_count": 42,
   "id": "95122864",
   "metadata": {},
   "outputs": [],
   "source": [
    "X_train, X_test, y_train, y_test = train_test_split(X, y, test_size=0.30)"
   ]
  },
  {
   "cell_type": "markdown",
   "id": "e3648d3d",
   "metadata": {},
   "source": [
    "# Addressing Data imbalance: Resampling the label class variables"
   ]
  },
  {
   "cell_type": "code",
   "execution_count": null,
   "id": "55d2f77c",
   "metadata": {},
   "outputs": [],
   "source": [
    "#pip install imblearn"
   ]
  },
  {
   "cell_type": "markdown",
   "id": "2f9e5a7b",
   "metadata": {},
   "source": [
    "*imblearn is a Python library designed for dealing with imbalanced datasets. The imblearn library offers various algorithms for data resampling, including oversampling, undersampling, and a combination of both.*"
   ]
  },
  {
   "cell_type": "code",
   "execution_count": 43,
   "id": "a4f6fd5c",
   "metadata": {},
   "outputs": [],
   "source": [
    "from imblearn.over_sampling import RandomOverSampler"
   ]
  },
  {
   "cell_type": "code",
   "execution_count": 44,
   "id": "eb785763",
   "metadata": {},
   "outputs": [],
   "source": [
    "# Create an instance of the RandomOverSampler class\n",
    "ros = RandomOverSampler(random_state=42)"
   ]
  },
  {
   "cell_type": "code",
   "execution_count": 45,
   "id": "c3c4d255",
   "metadata": {},
   "outputs": [],
   "source": [
    "# Resample the data\n",
    "X_resampled, y_resampled = ros.fit_resample(X, y)"
   ]
  },
  {
   "cell_type": "code",
   "execution_count": 46,
   "id": "c556a368",
   "metadata": {},
   "outputs": [
    {
     "data": {
      "text/plain": [
       "4840"
      ]
     },
     "execution_count": 46,
     "metadata": {},
     "output_type": "execute_result"
    }
   ],
   "source": [
    "y_resampled.value_counts().sum()"
   ]
  },
  {
   "cell_type": "code",
   "execution_count": 47,
   "id": "0050edb2",
   "metadata": {},
   "outputs": [
    {
     "data": {
      "text/plain": [
       "2    1210\n",
       "0     384\n",
       "1      69\n",
       "3      65\n",
       "Name: decision, dtype: int64"
      ]
     },
     "execution_count": 47,
     "metadata": {},
     "output_type": "execute_result"
    }
   ],
   "source": [
    "data['decision'].value_counts()"
   ]
  },
  {
   "cell_type": "markdown",
   "id": "5f4b4f07",
   "metadata": {},
   "source": [
    "*In \"Decision\" target variable, \"good\" and \"vgood\" are the underrepresented minority classes in this data sample, over sampling technique is used to duplicate these results for a more balanced amount of positive results in training as the amount of data collected is insufficient.*\n",
    "*Oversampling can be defined as adding more copies to the minority class. Oversampling is being performed here, as undersampling can cause overfitting and poor generalization to the test set.*"
   ]
  },
  {
   "cell_type": "code",
   "execution_count": 48,
   "id": "b4e25442",
   "metadata": {},
   "outputs": [],
   "source": [
    "X_train.to_csv('data_train_X.csv', index=False)\n",
    "y_train.to_csv('data_train_y.csv', index=False)\n",
    "X_test.to_csv('data_test_X.csv', index=False)\n",
    "y_test.to_csv('data_test_y.csv', index=False)"
   ]
  },
  {
   "cell_type": "code",
   "execution_count": 49,
   "id": "72ce381b",
   "metadata": {},
   "outputs": [
    {
     "data": {
      "text/plain": [
       "((1209, 15), (519, 15))"
      ]
     },
     "execution_count": 49,
     "metadata": {},
     "output_type": "execute_result"
    }
   ],
   "source": [
    "X_train.shape, X_test.shape"
   ]
  },
  {
   "cell_type": "markdown",
   "id": "3a150cec",
   "metadata": {},
   "source": [
    "*Now, we will be using the newly generated data for the modelfitting in the next steps.*"
   ]
  },
  {
   "cell_type": "code",
   "execution_count": null,
   "id": "582e3b34",
   "metadata": {},
   "outputs": [],
   "source": []
  }
 ],
 "metadata": {
  "kernelspec": {
   "display_name": "Python 3 (ipykernel)",
   "language": "python",
   "name": "python3"
  },
  "language_info": {
   "codemirror_mode": {
    "name": "ipython",
    "version": 3
   },
   "file_extension": ".py",
   "mimetype": "text/x-python",
   "name": "python",
   "nbconvert_exporter": "python",
   "pygments_lexer": "ipython3",
   "version": "3.9.12"
  }
 },
 "nbformat": 4,
 "nbformat_minor": 5
}
