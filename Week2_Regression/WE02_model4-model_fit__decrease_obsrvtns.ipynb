{
 "cells": [
  {
   "cell_type": "markdown",
   "id": "66d01c8a-f0cd-42af-aff9-8ba0bbd3c47e",
   "metadata": {
    "slideshow": {
     "slide_type": "slide"
    },
    "tags": []
   },
   "source": [
    "# Predictive Modeling Example"
   ]
  },
  {
   "cell_type": "markdown",
   "id": "9b9796cd-8b03-4aa7-bf6e-fee2340a189e",
   "metadata": {
    "slideshow": {
     "slide_type": "fragment"
    },
    "tags": []
   },
   "source": [
    "## Step 1: Import a number of libraries that we expect to use"
   ]
  },
  {
   "cell_type": "code",
   "execution_count": 1,
   "id": "cca96620-674f-43be-9633-3546127c263b",
   "metadata": {
    "slideshow": {
     "slide_type": "fragment"
    },
    "tags": []
   },
   "outputs": [],
   "source": [
    "import matplotlib.pyplot as plt\n",
    "import numpy as np\n",
    "import pandas as pd\n",
    "from sklearn.linear_model import LinearRegression\n",
    "from sklearn.preprocessing import PolynomialFeatures\n",
    "\n",
    "\n",
    "np.random.seed(1) # set this to ensure the results are repeatable. \n",
    "\n",
    "# this is a notebook 'MAGIC' that will allow for creation of inline plots (this is the defaul, so often not necessary)\n",
    "%matplotlib inline"
   ]
  },
  {
   "cell_type": "markdown",
   "id": "9a059c01-4097-4b16-8319-d62f7d3c9b0d",
   "metadata": {},
   "source": [
    "## Step 2: Load the given data that we will model"
   ]
  },
  {
   "cell_type": "code",
   "execution_count": 2,
   "id": "7815e222-9aae-4b39-999e-689dcea5aeb8",
   "metadata": {},
   "outputs": [
    {
     "data": {
      "text/html": [
       "<div>\n",
       "<style scoped>\n",
       "    .dataframe tbody tr th:only-of-type {\n",
       "        vertical-align: middle;\n",
       "    }\n",
       "\n",
       "    .dataframe tbody tr th {\n",
       "        vertical-align: top;\n",
       "    }\n",
       "\n",
       "    .dataframe thead th {\n",
       "        text-align: right;\n",
       "    }\n",
       "</style>\n",
       "<table border=\"1\" class=\"dataframe\">\n",
       "  <thead>\n",
       "    <tr style=\"text-align: right;\">\n",
       "      <th></th>\n",
       "      <th>X</th>\n",
       "      <th>y</th>\n",
       "    </tr>\n",
       "  </thead>\n",
       "  <tbody>\n",
       "    <tr>\n",
       "      <th>0</th>\n",
       "      <td>16.24</td>\n",
       "      <td>374.36640</td>\n",
       "    </tr>\n",
       "    <tr>\n",
       "      <th>1</th>\n",
       "      <td>-6.12</td>\n",
       "      <td>158.13160</td>\n",
       "    </tr>\n",
       "    <tr>\n",
       "      <th>2</th>\n",
       "      <td>-5.28</td>\n",
       "      <td>18.39760</td>\n",
       "    </tr>\n",
       "    <tr>\n",
       "      <th>3</th>\n",
       "      <td>-10.73</td>\n",
       "      <td>281.04435</td>\n",
       "    </tr>\n",
       "    <tr>\n",
       "      <th>4</th>\n",
       "      <td>8.65</td>\n",
       "      <td>95.74875</td>\n",
       "    </tr>\n",
       "    <tr>\n",
       "      <th>5</th>\n",
       "      <td>-23.02</td>\n",
       "      <td>717.91060</td>\n",
       "    </tr>\n",
       "    <tr>\n",
       "      <th>6</th>\n",
       "      <td>17.45</td>\n",
       "      <td>383.95875</td>\n",
       "    </tr>\n",
       "    <tr>\n",
       "      <th>7</th>\n",
       "      <td>-7.61</td>\n",
       "      <td>191.48315</td>\n",
       "    </tr>\n",
       "    <tr>\n",
       "      <th>8</th>\n",
       "      <td>3.19</td>\n",
       "      <td>-8.83085</td>\n",
       "    </tr>\n",
       "    <tr>\n",
       "      <th>9</th>\n",
       "      <td>-2.49</td>\n",
       "      <td>-146.93485</td>\n",
       "    </tr>\n",
       "  </tbody>\n",
       "</table>\n",
       "</div>"
      ],
      "text/plain": [
       "       X          y\n",
       "0  16.24  374.36640\n",
       "1  -6.12  158.13160\n",
       "2  -5.28   18.39760\n",
       "3 -10.73  281.04435\n",
       "4   8.65   95.74875\n",
       "5 -23.02  717.91060\n",
       "6  17.45  383.95875\n",
       "7  -7.61  191.48315\n",
       "8   3.19   -8.83085\n",
       "9  -2.49 -146.93485"
      ]
     },
     "execution_count": 2,
     "metadata": {},
     "output_type": "execute_result"
    }
   ],
   "source": [
    "df = pd.read_csv('c02_dataset_4_obes.csv')\n",
    "\n",
    "df.head(10)"
   ]
  },
  {
   "cell_type": "markdown",
   "id": "864fae09-1405-4f85-be61-884f917702e3",
   "metadata": {},
   "source": [
    "Seperate out the input m(X) and the target (y)"
   ]
  },
  {
   "cell_type": "code",
   "execution_count": 3,
   "id": "d684c6ea-96f6-49db-9f35-c4588d83033f",
   "metadata": {
    "slideshow": {
     "slide_type": "subslide"
    },
    "tags": []
   },
   "outputs": [],
   "source": [
    "X = df[['X']]\n",
    "y = df[['y']]"
   ]
  },
  {
   "cell_type": "markdown",
   "id": "4de05e07-a9a9-4a07-8031-f7212d67210a",
   "metadata": {},
   "source": [
    "## Step 3: Explore the given data\n",
    "\n",
    "Explore the data using a scatterplot."
   ]
  },
  {
   "cell_type": "code",
   "execution_count": 4,
   "id": "02358dd7-6e42-4529-9454-bc7810fb514b",
   "metadata": {},
   "outputs": [
    {
     "data": {
      "image/png": "[encoded data removed]",
      "text/plain": [
       "<Figure size 432x288 with 1 Axes>"
      ]
     },
     "metadata": {
      "needs_background": "light"
     },
     "output_type": "display_data"
    }
   ],
   "source": [
    "fig = plt.figure()\n",
    "ax = fig.add_subplot()\n",
    "\n",
    "ax.scatter(X, y, color='red')\n",
    "\n",
    "ax.set_xlabel('X')\n",
    "ax.set_ylabel('y')\n",
    "ax.set_title(\"Polynomial Regression Test\")\n",
    "plt.tight_layout()\n",
    "plt.show()"
   ]
  },
  {
   "cell_type": "markdown",
   "id": "673280b1-0181-43c5-8efe-394d3f50fe2e",
   "metadata": {},
   "source": [
    "## Step 4: Fit the model\n",
    "\n",
    "Fit the linear regression model to the dataset"
   ]
  },
  {
   "cell_type": "code",
   "execution_count": 5,
   "id": "2df5aff9-b0ae-4f5e-8376-d5c275bf6e8f",
   "metadata": {},
   "outputs": [],
   "source": [
    "lin_reg1=LinearRegression().fit(X,y)"
   ]
  },
  {
   "cell_type": "markdown",
   "id": "748f65f4-4499-44c0-8684-6bcb5cf79a79",
   "metadata": {},
   "source": [
    "## Step 5: Analyze the resulting model's performance"
   ]
  },
  {
   "cell_type": "markdown",
   "id": "3bc645d8-e6d8-476b-8dff-55bb49f9a16d",
   "metadata": {},
   "source": [
    "Visualize the linear regression model results"
   ]
  },
  {
   "cell_type": "code",
   "execution_count": 6,
   "id": "847d4c77-85d5-4d8e-a939-6724e34413de",
   "metadata": {},
   "outputs": [
    {
     "data": {
      "image/png": "[encoded data removed]",
      "text/plain": [
       "<Figure size 432x288 with 1 Axes>"
      ]
     },
     "metadata": {
      "needs_background": "light"
     },
     "output_type": "display_data"
    }
   ],
   "source": [
    "fig = plt.figure()\n",
    "ax = fig.add_subplot()\n",
    "\n",
    "ax.scatter(X, y, color='red')\n",
    "ax.scatter(X,lin_reg1.predict(X),color='blue')\n",
    "\n",
    "ax.set_xlabel('X')\n",
    "ax.set_ylabel('y')\n",
    "ax.set_title(\"Polynomial Regression Test\")\n",
    "plt.tight_layout()\n",
    "plt.show()"
   ]
  },
  {
   "cell_type": "code",
   "execution_count": 7,
   "id": "ec9094e8",
   "metadata": {},
   "outputs": [],
   "source": [
    "b0 = lin_reg1.intercept_[0]\n",
    "b1 = lin_reg1.coef_[0][0]\n",
    "r2 = lin_reg1.score(X, y)"
   ]
  },
  {
   "cell_type": "code",
   "execution_count": 8,
   "id": "99cc188d-12c0-4489-bf4c-4524a87c57d4",
   "metadata": {
    "slideshow": {
     "slide_type": "subslide"
    },
    "tags": []
   },
   "outputs": [
    {
     "name": "stdout",
     "output_type": "stream",
     "text": [
      "Y = 152.53182724081168 + 4.670017094463779x\n",
      "R^2: 0.03698337764981452\n"
     ]
    }
   ],
   "source": [
    "print(f\"Y = {b0} + {b1}x\")\n",
    "print(f\"R^2: {r2}\")"
   ]
  },
  {
   "cell_type": "markdown",
   "id": "37914818-080f-4017-a5b0-7dce36e2378b",
   "metadata": {},
   "source": [
    "... using fstring formatting, we can display these values as follows..."
   ]
  },
  {
   "cell_type": "code",
   "execution_count": 9,
   "id": "2af1b220-0199-40aa-adc3-aecd7a9bb36d",
   "metadata": {},
   "outputs": [
    {
     "name": "stdout",
     "output_type": "stream",
     "text": [
      "Y = 152.53 + 4.67x\n",
      "R^2: 0.037\n"
     ]
    }
   ],
   "source": [
    "print(f\"Y = {b0:.2f} + {b1:.2f}x\")\n",
    "print(f\"R^2: {r2:.3f}\") \n",
    "# for more on fstrings see here https://www.freecodecamp.org/news/python-f-strings-tutorial-how-to-use-f-strings-for-string-formatting/"
   ]
  },
  {
   "cell_type": "markdown",
   "id": "866c40e2-9027-48c0-8c6f-e436499717e3",
   "metadata": {},
   "source": [
    "## Step 6: Try another model (in this case, a second order polynomial)"
   ]
  },
  {
   "cell_type": "markdown",
   "id": "aea8b6c5-573b-4b28-9f1e-69c29ff63b51",
   "metadata": {},
   "source": [
    "Create the features (that is, x and x^2) for the linear regression. Then do all the analysis we did above again."
   ]
  },
  {
   "cell_type": "code",
   "execution_count": 10,
   "id": "77c1687f-bab0-483c-8148-79b019d37d5f",
   "metadata": {},
   "outputs": [],
   "source": [
    "X_poly=PolynomialFeatures(degree=2).fit_transform(X)"
   ]
  },
  {
   "cell_type": "markdown",
   "id": "5eb55f2f-9061-4990-8fa3-7f9e78dc6e65",
   "metadata": {},
   "source": [
    "Fit this model to the polynomial features..."
   ]
  },
  {
   "cell_type": "code",
   "execution_count": 11,
   "id": "26937a4f-81e0-4afb-8f36-95c968944fa5",
   "metadata": {},
   "outputs": [],
   "source": [
    "lin_reg2=LinearRegression().fit(X_poly,y)"
   ]
  },
  {
   "cell_type": "markdown",
   "id": "a429b0a0-6fc4-4107-95cb-57d732401b66",
   "metadata": {},
   "source": [
    "Explore the results visually..."
   ]
  },
  {
   "cell_type": "code",
   "execution_count": 12,
   "id": "4edd9e4c-dce6-4489-ae06-9952b029a0b3",
   "metadata": {},
   "outputs": [
    {
     "data": {
      "image/png": "[encoded data removed]",
      "text/plain": [
       "<Figure size 432x288 with 1 Axes>"
      ]
     },
     "metadata": {
      "needs_background": "light"
     },
     "output_type": "display_data"
    }
   ],
   "source": [
    "fig = plt.figure()\n",
    "ax = fig.add_subplot()\n",
    "\n",
    "ax.scatter(X, y, color='red')\n",
    "ax.scatter(X,lin_reg2.predict(X_poly),color='blue')\n",
    "\n",
    "ax.set_xlabel('X')\n",
    "ax.set_ylabel('y')\n",
    "ax.set_title(\"Polynomial Regression Test\")\n",
    "plt.tight_layout()\n",
    "plt.show()"
   ]
  },
  {
   "cell_type": "markdown",
   "id": "36823d6f-2fc5-4683-805d-45b8e27f60ca",
   "metadata": {},
   "source": [
    "Look at what the 'hidden model' is that we have identified..."
   ]
  },
  {
   "cell_type": "code",
   "execution_count": 13,
   "id": "1f9bf584-1286-4b2e-a8c3-13e59ef47e2b",
   "metadata": {
    "slideshow": {
     "slide_type": "subslide"
    },
    "tags": []
   },
   "outputs": [
    {
     "name": "stdout",
     "output_type": "stream",
     "text": [
      "Y = 3.75 + 3.65x + 1.51x^2\n",
      "R^2: 0.84\n"
     ]
    }
   ],
   "source": [
    "print(f\"Y = {lin_reg2.intercept_[0]:.2f} + {lin_reg2.coef_[0][1]:.2f}x + {lin_reg2.coef_[0][2]:.2f}x^2\")\n",
    "print(f\"R^2: {lin_reg2.score(X_poly, y):.2f}\")"
   ]
  },
  {
   "cell_type": "markdown",
   "id": "4672a77a",
   "metadata": {},
   "source": [
    "The values of the r2 for the best fit model has increased from 0.83 to 0.84 after decreasing the number of obesravtions.we have changed the number of observation from 1000 to 700."
   ]
  },
  {
   "cell_type": "code",
   "execution_count": null,
   "id": "ad769117",
   "metadata": {},
   "outputs": [],
   "source": []
  }
 ],
 "metadata": {
  "kernelspec": {
   "display_name": "Python 3 (ipykernel)",
   "language": "python",
   "name": "python3"
  },
  "language_info": {
   "codemirror_mode": {
    "name": "ipython",
    "version": 3
   },
   "file_extension": ".py",
   "mimetype": "text/x-python",
   "name": "python",
   "nbconvert_exporter": "python",
   "pygments_lexer": "ipython3",
   "version": "3.9.12"
  },
  "vscode": {
   "interpreter": {
    "hash": "b056086e24cb5602cbcb82122035cd3d6ee2ccbf5df29c16e348c108b0f83be3"
   }
  }
 },
 "nbformat": 4,
 "nbformat_minor": 5
}
